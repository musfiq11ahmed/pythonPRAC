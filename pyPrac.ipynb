{
 "cells": [
  {
   "cell_type": "markdown",
   "id": "5321a304-a79a-4a6c-a034-d6ad7796ef95",
   "metadata": {},
   "source": [
    "# Number Guessing Game"
   ]
  },
  {
   "cell_type": "code",
   "execution_count": null,
   "id": "77d95818-6cd4-40fc-880c-d6c4612caf03",
   "metadata": {},
   "outputs": [],
   "source": [
    "import random\n",
    "\n",
    "print(\"Hi welcome to the game, This is a number guessing game.\\nYou got 7 chances to guess the number. Let's start the game\")\n",
    "\n",
    "number_to_guess = random.randrange(100)\n",
    "\n",
    "chances = 7\n",
    "\n",
    "guess_counter = 0\n",
    "\n",
    "while guess_counter < chances:\n",
    "\n",
    "    guess_counter += 1\n",
    "    my_guess = int(input('Please Enter your Guess : '))\n",
    "\n",
    "    if my_guess == number_to_guess:\n",
    "        print(f'The number is {number_to_guess} and you found it right !! in the {guess_counter} attempt')\n",
    "        break\n",
    "\n",
    "    elif guess_counter >= chances and my_guess != number_to_guess:\n",
    "        print(f'Oops sorry, The number is {number_to_guess} better luck next time')\n",
    "\n",
    "    elif my_guess > number_to_guess:\n",
    "        print('Your guess is higher ')\n",
    "\n",
    "    elif my_guess < number_to_guess:\n",
    "        print('Your guess is lesser')\n"
   ]
  },
  {
   "cell_type": "code",
   "execution_count": null,
   "id": "61464a6a-cddf-43ab-ae9c-faee2baa3426",
   "metadata": {},
   "outputs": [],
   "source": [
    "def checkOddEven(x):\n",
    "    if(x % 2 == 0):\n",
    "      return True\n",
    "    else:\n",
    "        return False\n",
    "\n",
    "def main():\n",
    "    \n",
    "    # Testcase input\n",
    "    testcases = int(input())\n",
    "    \n",
    "    # Looping through testcases\n",
    "    while(testcases > 0):\n",
    "        x = int(input())\n",
    "        \n",
    "        if(checkOddEven(x)):\n",
    "            print (\"Even\")\n",
    "        else:\n",
    "            print (\"Odd\")\n",
    "        \n",
    "        \n",
    "        testcases -= 1\n",
    "        print(\"~\")\n",
    " \n",
    "if __name__ == '__main__':\n",
    "    main()"
   ]
  },
  {
   "cell_type": "markdown",
   "id": "87b50b8e-e671-48c7-9d66-692c7f51b333",
   "metadata": {},
   "source": [
    "# Check Status"
   ]
  },
  {
   "cell_type": "code",
   "execution_count": 1,
   "id": "ff87d7ae-f871-49e6-8ae9-c957b45c9294",
   "metadata": {},
   "outputs": [
    {
     "name": "stdin",
     "output_type": "stream",
     "text": [
      " 4\n",
      " -5\n",
      " False\n"
     ]
    },
    {
     "ename": "ValueError",
     "evalue": "invalid literal for int() with base 10: 'False'",
     "output_type": "error",
     "traceback": [
      "\u001b[1;31m---------------------------------------------------------------------------\u001b[0m",
      "\u001b[1;31mValueError\u001b[0m                                Traceback (most recent call last)",
      "Cell \u001b[1;32mIn[1], line 18\u001b[0m\n\u001b[0;32m     16\u001b[0m \u001b[38;5;28;01mfor\u001b[39;00m _ \u001b[38;5;129;01min\u001b[39;00m \u001b[38;5;28mrange\u001b[39m(testcases):\n\u001b[0;32m     17\u001b[0m     a \u001b[38;5;241m=\u001b[39m \u001b[38;5;28mint\u001b[39m(\u001b[38;5;28minput\u001b[39m()\u001b[38;5;241m.\u001b[39mstrip())\n\u001b[1;32m---> 18\u001b[0m     b \u001b[38;5;241m=\u001b[39m \u001b[38;5;28mint\u001b[39m(\u001b[38;5;28minput\u001b[39m()\u001b[38;5;241m.\u001b[39mstrip())\n\u001b[0;32m     19\u001b[0m     flag \u001b[38;5;241m=\u001b[39m \u001b[38;5;28minput\u001b[39m()\u001b[38;5;241m.\u001b[39mstrip()\u001b[38;5;241m.\u001b[39mlower() \u001b[38;5;241m==\u001b[39m \u001b[38;5;124m\"\u001b[39m\u001b[38;5;124mtrue\u001b[39m\u001b[38;5;124m\"\u001b[39m  \u001b[38;5;66;03m# Convert input to boolean\u001b[39;00m\n\u001b[0;32m     21\u001b[0m     \u001b[38;5;28mprint\u001b[39m(\u001b[38;5;124m\"\u001b[39m\u001b[38;5;124mTrue\u001b[39m\u001b[38;5;124m\"\u001b[39m \u001b[38;5;28;01mif\u001b[39;00m Solution()\u001b[38;5;241m.\u001b[39mcheckStatus(a, b, flag) \u001b[38;5;28;01melse\u001b[39;00m \u001b[38;5;124m\"\u001b[39m\u001b[38;5;124mFalse\u001b[39m\u001b[38;5;124m\"\u001b[39m)\n",
      "\u001b[1;31mValueError\u001b[0m: invalid literal for int() with base 10: 'False'"
     ]
    }
   ],
   "source": [
    "class Solution:\n",
    "    def checkStatus(self, a, b, flag):\n",
    "        # Condition 1: Either a or b (not both) is non-negative, and flag is False\n",
    "        if (a >= 0) ^ (b >= 0) and not flag:\n",
    "            return True\n",
    "        # Condition 2: Both a and b are negative, and flag is True\n",
    "        if a < 0 and b < 0 and flag:\n",
    "            return True\n",
    "        # Otherwise, return False\n",
    "        return False\n",
    "\n",
    "# Driver Code\n",
    "if __name__ == '__main__':\n",
    "    testcases = int(input().strip())\n",
    "\n",
    "    for _ in range(testcases):\n",
    "        a = int(input().strip())\n",
    "        b = int(input().strip())\n",
    "        flag = input().strip().lower() == \"true\"  # Convert input to boolean\n",
    "\n",
    "        print(\"True\" if Solution().checkStatus(a, b, flag) else \"False\")\n",
    "        print(\"~\")\n"
   ]
  },
  {
   "cell_type": "code",
   "execution_count": null,
   "id": "1b730859-df12-40be-9e8a-7feb4affffc3",
   "metadata": {},
   "outputs": [],
   "source": []
  }
 ],
 "metadata": {
  "kernelspec": {
   "display_name": "Python [conda env:base] *",
   "language": "python",
   "name": "conda-base-py"
  },
  "language_info": {
   "codemirror_mode": {
    "name": "ipython",
    "version": 3
   },
   "file_extension": ".py",
   "mimetype": "text/x-python",
   "name": "python",
   "nbconvert_exporter": "python",
   "pygments_lexer": "ipython3",
   "version": "3.12.7"
  }
 },
 "nbformat": 4,
 "nbformat_minor": 5
}
